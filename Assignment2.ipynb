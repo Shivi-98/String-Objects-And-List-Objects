{
 "cells": [
  {
   "cell_type": "markdown",
   "id": "efc65fcd",
   "metadata": {},
   "source": [
    "# Assignment2"
   ]
  },
  {
   "cell_type": "markdown",
   "id": "ffb67832",
   "metadata": {},
   "source": [
    "## Question1"
   ]
  },
  {
   "cell_type": "code",
   "execution_count": 1,
   "id": "e63b30af",
   "metadata": {},
   "outputs": [
    {
     "name": "stdout",
     "output_type": "stream",
     "text": [
      "*\n",
      "**\n",
      "***\n",
      "****\n",
      "*****\n",
      "****\n",
      "***\n",
      "**\n",
      "*\n"
     ]
    }
   ],
   "source": [
    "for i in range(1,10):\n",
    "    if(i<6):\n",
    "        for j in range(1,i+1):\n",
    "            print('*',end=\"\")\n",
    "    if(i>=6):\n",
    "       for j in range(1,11-i):\n",
    "        print('*',end='')\n",
    "    print(\"\")"
   ]
  },
  {
   "cell_type": "markdown",
   "id": "dae9d3a1",
   "metadata": {},
   "source": [
    "## Question2"
   ]
  },
  {
   "cell_type": "code",
   "execution_count": 2,
   "id": "8dc1844e",
   "metadata": {},
   "outputs": [
    {
     "name": "stdout",
     "output_type": "stream",
     "text": [
      "enter name=ineuron\n",
      "norueni "
     ]
    }
   ],
   "source": [
    "n=input('enter name=')\n",
    "li=n.split(' ')\n",
    "str=''\n",
    "for i in range(len(li)):\n",
    "    str=li[i][::-1]\n",
    "    print(str,end=' ')   "
   ]
  },
  {
   "cell_type": "code",
   "execution_count": null,
   "id": "a7e18c37",
   "metadata": {},
   "outputs": [],
   "source": []
  }
 ],
 "metadata": {
  "kernelspec": {
   "display_name": "Python 3",
   "language": "python",
   "name": "python3"
  },
  "language_info": {
   "codemirror_mode": {
    "name": "ipython",
    "version": 3
   },
   "file_extension": ".py",
   "mimetype": "text/x-python",
   "name": "python",
   "nbconvert_exporter": "python",
   "pygments_lexer": "ipython3",
   "version": "3.8.8"
  }
 },
 "nbformat": 4,
 "nbformat_minor": 5
}
